{
 "cells": [
  {
   "cell_type": "markdown",
   "metadata": {},
   "source": [
    "# Facility Location"
   ]
  },
  {
   "cell_type": "markdown",
   "metadata": {},
   "source": [
    "A large supermarket chain in Quebec needs to build warehouses for a set of supermarkets it is opening in Laval. The locations of the supermarkets have been identified, but the locations of the warehouses have yet to be determined.\n",
    "\n",
    "Several good candidate locations for the warehouses have been identified, but decisions must be made regarding \n",
    "how many warehouses to open and at which candidate locations to build them.\n",
    "\n",
    "Opening many warehouses would be advantageous as this would reduce the average distance a truck has to drive from the warehouse to the supermarket, and hence reduce the delivery cost. However, opening a warehouse has a fixed cost associated with it.\n",
    "\n",
    "The goal is to find the optimal tradeoff between delivery costs and the costs of building new facilities."
   ]
  },
  {
   "cell_type": "markdown",
   "metadata": {},
   "source": [
    "\n",
    "Consider two supermarkets and nine warehouse candidates. The coordinates of each supermarket are provided in the following table.\n",
    "\n",
    "| <i></i> | Coordinates |  \n",
    "| --- | --- | \n",
    "| Supermarket 1 | (0,1.5) |\n",
    "| Supermarket 2 | (2.5,1.2) |\n",
    "\n",
    "The following table shows the coordinates of the candidate warehouse sites and the fixed cost of building the warehouse in millions of GBP.\n",
    "\n",
    "| <i></i> | coordinates | fixed cost |\n",
    "| --- | --- |  --- |\n",
    "| Warehouse 1 | (0,0) | 3 |\n",
    "| Warehouse 2 | (0,1) | 2 |\n",
    "| Warehouse 3 | (0,2) | 3 |\n",
    "| Warehouse 4 | (1,0) | 1 |\n",
    "| Warehouse 5 | (1,1) | 3 | \n",
    "| Warehouse 6 | (1,2) | 3 |\n",
    "| Warehouse 7 | (2,0) | 4 |\n",
    "| Warehouse 8 | (2,1) | 3 |  \n",
    "| Warehouse 9 | (2,2) | 2 |\n",
    "\n",
    "\n",
    "The cost per mile is one million CAD.\n",
    "\n",
    "## Python Implementation\n",
    "\n"
   ]
  },
  {
   "cell_type": "code",
   "execution_count": 1,
   "metadata": {
    "tags": []
   },
   "outputs": [],
   "source": [
    "from itertools import product\n",
    "from math import sqrt\n",
    "\n",
    "import gurobipy as gb\n",
    "from gurobipy import *\n",
    "\n",
    "# Data\n",
    "customers = [(0,1.5), (2.5,1.2)]\n",
    "facilities = [(0,0), (0,1), (0,2), (1,0), (1,1), (1,2), (2,0), (2,1), (2,2)]\n",
    "setup_cost = [3,2,3,1,3,3,4,3,2]\n",
    "cost_per_mile = 1\n",
    "wh=['warehouse1','warehouse2','warehouse3','warehouse4','warehouse5','warehouse6','warehouse7','warehouse8','warehouse9']\n",
    "sm=['supermarket1', 'supermarket2']"
   ]
  },
  {
   "cell_type": "markdown",
   "metadata": {},
   "source": [
    "We define a function that determines the Euclidean distance between each facility and customer sites. "
   ]
  },
  {
   "cell_type": "code",
   "execution_count": 2,
   "metadata": {
    "tags": []
   },
   "outputs": [],
   "source": [
    "# This function determines the Euclidean distance between a facility and customer sites.\n",
    "\n",
    "def compute_distance(loc1, loc2):\n",
    "    dx = loc1[0] - loc2[0]\n",
    "    dy = loc1[1] - loc2[1]\n",
    "    return sqrt(dx*dx + dy*dy)\n",
    "\n",
    "num_facilities = len(facilities)\n",
    "num_customers = len(customers)\n",
    "cartesian_prod = list(product(range(num_customers), range(num_facilities)))\n",
    "\n",
    "# Compute shipping costs\n",
    "\n",
    "shipping_cost = {(c,f): cost_per_mile*compute_distance(customers[c], facilities[f]) for c, f in cartesian_prod}"
   ]
  },
  {
   "cell_type": "markdown",
   "metadata": {},
   "source": [
    "### Model \n"
   ]
  },
  {
   "cell_type": "code",
   "execution_count": 3,
   "metadata": {
    "tags": []
   },
   "outputs": [
    {
     "data": {
      "text/plain": [
       "{(0, 0): 1.5,\n",
       " (0, 1): 0.5,\n",
       " (0, 2): 0.5,\n",
       " (0, 3): 1.8027756377319946,\n",
       " (0, 4): 1.118033988749895,\n",
       " (0, 5): 1.118033988749895,\n",
       " (0, 6): 2.5,\n",
       " (0, 7): 2.0615528128088303,\n",
       " (0, 8): 2.0615528128088303,\n",
       " (1, 0): 2.773084924772409,\n",
       " (1, 1): 2.5079872407968904,\n",
       " (1, 2): 2.6248809496813377,\n",
       " (1, 3): 1.9209372712298547,\n",
       " (1, 4): 1.5132745950421556,\n",
       " (1, 5): 1.7,\n",
       " (1, 6): 1.3,\n",
       " (1, 7): 0.5385164807134504,\n",
       " (1, 8): 0.9433981132056605}"
      ]
     },
     "execution_count": 3,
     "metadata": {},
     "output_type": "execute_result"
    }
   ],
   "source": [
    "shipping_cost"
   ]
  },
  {
   "cell_type": "code",
   "execution_count": 4,
   "metadata": {
    "tags": []
   },
   "outputs": [
    {
     "name": "stdout",
     "output_type": "stream",
     "text": [
      "Restricted license - for non-production use only - expires 2024-10-28\n"
     ]
    }
   ],
   "source": [
    "prob=gb.Model('Facility_Location')"
   ]
  },
  {
   "cell_type": "code",
   "execution_count": 5,
   "metadata": {
    "tags": []
   },
   "outputs": [],
   "source": [
    "X=prob.addVars(num_customers,num_facilities, vtype=GRB.CONTINUOUS, lb=0, ub=1, name=[f'fraction of demand from {sm[i]} serviced by {wh[j]}' for i in range (num_customers) for j in range (num_facilities)])"
   ]
  },
  {
   "cell_type": "code",
   "execution_count": 6,
   "metadata": {
    "tags": []
   },
   "outputs": [],
   "source": [
    "Y=prob.addVars(num_facilities,vtype=GRB.BINARY, name=[f'{wh[i]}' for i in range(num_facilities)])"
   ]
  },
  {
   "cell_type": "code",
   "execution_count": 7,
   "metadata": {
    "tags": []
   },
   "outputs": [],
   "source": [
    "prob.setObjective(sum(shipping_cost[i,j]*X[i,j] for i in range (num_customers) for j in range (num_facilities))+sum(setup_cost[i]*Y[i]for i in range(num_facilities)))"
   ]
  },
  {
   "cell_type": "code",
   "execution_count": 8,
   "metadata": {
    "tags": []
   },
   "outputs": [
    {
     "data": {
      "text/plain": [
       "{0: <gurobi.Constr *Awaiting Model Update*>,\n",
       " 1: <gurobi.Constr *Awaiting Model Update*>}"
      ]
     },
     "execution_count": 8,
     "metadata": {},
     "output_type": "execute_result"
    }
   ],
   "source": [
    "prob.addConstrs(sum(X[i,j] for j in range(num_facilities))==1 for i in range(num_customers))"
   ]
  },
  {
   "cell_type": "code",
   "execution_count": 9,
   "metadata": {
    "tags": []
   },
   "outputs": [
    {
     "data": {
      "text/plain": [
       "{(0, 0): <gurobi.Constr *Awaiting Model Update*>,\n",
       " (0, 1): <gurobi.Constr *Awaiting Model Update*>,\n",
       " (0, 2): <gurobi.Constr *Awaiting Model Update*>,\n",
       " (0, 3): <gurobi.Constr *Awaiting Model Update*>,\n",
       " (0, 4): <gurobi.Constr *Awaiting Model Update*>,\n",
       " (0, 5): <gurobi.Constr *Awaiting Model Update*>,\n",
       " (0, 6): <gurobi.Constr *Awaiting Model Update*>,\n",
       " (0, 7): <gurobi.Constr *Awaiting Model Update*>,\n",
       " (0, 8): <gurobi.Constr *Awaiting Model Update*>,\n",
       " (1, 0): <gurobi.Constr *Awaiting Model Update*>,\n",
       " (1, 1): <gurobi.Constr *Awaiting Model Update*>,\n",
       " (1, 2): <gurobi.Constr *Awaiting Model Update*>,\n",
       " (1, 3): <gurobi.Constr *Awaiting Model Update*>,\n",
       " (1, 4): <gurobi.Constr *Awaiting Model Update*>,\n",
       " (1, 5): <gurobi.Constr *Awaiting Model Update*>,\n",
       " (1, 6): <gurobi.Constr *Awaiting Model Update*>,\n",
       " (1, 7): <gurobi.Constr *Awaiting Model Update*>,\n",
       " (1, 8): <gurobi.Constr *Awaiting Model Update*>}"
      ]
     },
     "execution_count": 9,
     "metadata": {},
     "output_type": "execute_result"
    }
   ],
   "source": [
    "prob.addConstrs(X[i,j]<=Y[j] for i in range(num_customers) for j in range(num_facilities))"
   ]
  },
  {
   "cell_type": "code",
   "execution_count": 10,
   "metadata": {
    "tags": []
   },
   "outputs": [
    {
     "name": "stdout",
     "output_type": "stream",
     "text": [
      "Gurobi Optimizer version 10.0.1 build v10.0.1rc0 (mac64[x86])\n",
      "\n",
      "CPU model: Intel(R) Core(TM) i5-5250U CPU @ 1.60GHz\n",
      "Thread count: 2 physical cores, 4 logical processors, using up to 4 threads\n",
      "\n",
      "Optimize a model with 20 rows, 27 columns and 54 nonzeros\n",
      "Model fingerprint: 0xdd83b940\n",
      "Variable types: 18 continuous, 9 integer (9 binary)\n",
      "Coefficient statistics:\n",
      "  Matrix range     [1e+00, 1e+00]\n",
      "  Objective range  [5e-01, 4e+00]\n",
      "  Bounds range     [1e+00, 1e+00]\n",
      "  RHS range        [1e+00, 1e+00]\n",
      "Presolve time: 0.00s\n",
      "Presolved: 20 rows, 27 columns, 54 nonzeros\n",
      "Variable types: 18 continuous, 9 integer (9 binary)\n",
      "Found heuristic solution: objective 6.0385165\n",
      "\n",
      "Root relaxation: objective 4.723713e+00, 15 iterations, 0.00 seconds (0.00 work units)\n",
      "\n",
      "    Nodes    |    Current Node    |     Objective Bounds      |     Work\n",
      " Expl Unexpl |  Obj  Depth IntInf | Incumbent    BestBd   Gap | It/Node Time\n",
      "\n",
      "*    0     0               0       4.7237129    4.72371  0.00%     -    0s\n",
      "\n",
      "Explored 1 nodes (15 simplex iterations) in 0.06 seconds (0.00 work units)\n",
      "Thread count was 4 (of 4 available processors)\n",
      "\n",
      "Solution count 2: 4.72371 6.03852 \n",
      "\n",
      "Optimal solution found (tolerance 1.00e-04)\n",
      "Best objective 4.723712908962e+00, best bound 4.723712908962e+00, gap 0.0000%\n"
     ]
    }
   ],
   "source": [
    "prob.optimize()"
   ]
  },
  {
   "cell_type": "code",
   "execution_count": 11,
   "metadata": {
    "tags": []
   },
   "outputs": [
    {
     "name": "stdout",
     "output_type": "stream",
     "text": [
      "fraction of demand fromsupermarket1 serviced by warehouse4=1.0\n",
      "fraction of demand fromsupermarket2 serviced by warehouse4=1.0\n",
      "warehouse4=1.0\n"
     ]
    }
   ],
   "source": [
    "for v in prob.getVars():\n",
    "    if v.x>0:\n",
    "        print(f'{v.varName}={round(v.x,2)}')"
   ]
  },
  {
   "cell_type": "code",
   "execution_count": null,
   "metadata": {},
   "outputs": [],
   "source": []
  }
 ],
 "metadata": {
  "kernelspec": {
   "display_name": "Python 3 (ipykernel)",
   "language": "python",
   "name": "python3"
  },
  "language_info": {
   "codemirror_mode": {
    "name": "ipython",
    "version": 3
   },
   "file_extension": ".py",
   "mimetype": "text/x-python",
   "name": "python",
   "nbconvert_exporter": "python",
   "pygments_lexer": "ipython3",
   "version": "3.9.12"
  }
 },
 "nbformat": 4,
 "nbformat_minor": 4
}
